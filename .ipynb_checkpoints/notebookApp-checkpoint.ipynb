{
 "cells": [
  {
   "cell_type": "markdown",
   "metadata": {
    "pycharm": {
     "name": "#%% md\n"
    }
   },
   "source": [
    "# Replace Query with Parameter\n",
    "🎓 College: [Faculdade Metodista Granbery](http://granbery.edu.br/)\n",
    "\n",
    "👨‍🏫 Teacher: [Marco Antônio - Github](https://github.com/marcoaparaujo) | [Linkedin](https://www.linkedin.com/in/marco-ant%C3%B4nio-ara%C3%BAjo/)\n",
    "\n",
    "📗 Book: [Refatoração - Aperfeiçoando o design de códigos existentes - Martin Fowler](https://www.amazon.com/-/pt/dp/B087N8LKYB/ref=sr_1_1?__mk_pt_BR=%C3%85M%C3%85%C5%BD%C3%95%C3%91&crid=M4T29CCKD30E&keywords=refatora%C3%A7%C3%A3o&qid=1651322207&sprefix=refatora%C3%A7%C3%A3o%2Caps%2C203&sr=8-1)\n",
    "\n",
    "> FOWLER, Martin. “Replace Query with Parameter” no código. *In*: REFATORAÇÃO: Aperfeiçoando o design de códigos existentes. 2. ed. [*S. l.*: *s. n.*], 2019. cap. 8.\n",
    ">\n",
    "\n",
    "## Objetivo\n",
    "\n",
    "Objetivo desse método e trazer uma função que traga sempre o mesmo resultado  que se chama transparência referencial. A função que foi criada, não acessar um referencial transparente, a função não possuir transparência."
   ]
  },
  {
   "cell_type": "markdown",
   "metadata": {
    "pycharm": {
     "name": "#%% md\n"
    }
   },
   "source": [
    "## Código\n",
    "O código que escolhi foi uma atividade dado em aula pelo Professor Ricardo. Essa função recebe um parâmetro de nomes de coluna do dataset, os dados são verificados pela sua severidade e depois ocorre sua substituição dos valores ausentes de acordo com o seu tipo.\n",
    "\n",
    "O código pode ser encontrado na plataforma [Kaggle](https://www.kaggle.com/code/edmilsoneddi/data-mining-discipline-exercise)\n",
    "\n",
    "## Ferramentas\n",
    "### pytest\n",
    "```sh\n",
    "    pip install ipytest\n",
    "```\n",
    "### testbook\n",
    "```sh\n",
    "    pip install testbook\n",
    "```\n",
    "### jupyter notebook\n",
    "```sh\n",
    "    pip install jupyter\n",
    "```\n",
    "### pandas\n",
    "```sh\n",
    "    pip install pandas\n",
    "```\n"
   ]
  },
  {
   "cell_type": "markdown",
   "metadata": {
    "pycharm": {
     "name": "#%% md\n"
    }
   },
   "source": [
    "## Código sem refatoração"
   ]
  },
  {
   "cell_type": "code",
   "execution_count": 197,
   "metadata": {
    "pycharm": {
     "name": "#%%\n"
    }
   },
   "outputs": [],
   "source": [
    "import pandas as pd"
   ]
  },
  {
   "cell_type": "code",
   "execution_count": 198,
   "metadata": {
    "pycharm": {
     "name": "#%%\n"
    }
   },
   "outputs": [],
   "source": [
    "dataset = pd.read_csv('mamografia.csv')"
   ]
  },
  {
   "cell_type": "code",
   "execution_count": 199,
   "metadata": {
    "pycharm": {
     "name": "#%%\n"
    }
   },
   "outputs": [
    {
     "data": {
      "text/html": [
       "<div>\n",
       "<style scoped>\n",
       "    .dataframe tbody tr th:only-of-type {\n",
       "        vertical-align: middle;\n",
       "    }\n",
       "\n",
       "    .dataframe tbody tr th {\n",
       "        vertical-align: top;\n",
       "    }\n",
       "\n",
       "    .dataframe thead th {\n",
       "        text-align: right;\n",
       "    }\n",
       "</style>\n",
       "<table border=\"1\" class=\"dataframe\">\n",
       "  <thead>\n",
       "    <tr style=\"text-align: right;\">\n",
       "      <th></th>\n",
       "      <th>BI-RADS</th>\n",
       "      <th>Idade</th>\n",
       "      <th>Forma</th>\n",
       "      <th>Margem</th>\n",
       "      <th>Densidade</th>\n",
       "      <th>Severidade</th>\n",
       "    </tr>\n",
       "  </thead>\n",
       "  <tbody>\n",
       "    <tr>\n",
       "      <th>0</th>\n",
       "      <td>5.0</td>\n",
       "      <td>67.0</td>\n",
       "      <td>3.0</td>\n",
       "      <td>5.0</td>\n",
       "      <td>3.0</td>\n",
       "      <td>1</td>\n",
       "    </tr>\n",
       "    <tr>\n",
       "      <th>1</th>\n",
       "      <td>4.0</td>\n",
       "      <td>43.0</td>\n",
       "      <td>1.0</td>\n",
       "      <td>1.0</td>\n",
       "      <td>NaN</td>\n",
       "      <td>1</td>\n",
       "    </tr>\n",
       "    <tr>\n",
       "      <th>2</th>\n",
       "      <td>5.0</td>\n",
       "      <td>58.0</td>\n",
       "      <td>4.0</td>\n",
       "      <td>5.0</td>\n",
       "      <td>3.0</td>\n",
       "      <td>1</td>\n",
       "    </tr>\n",
       "    <tr>\n",
       "      <th>3</th>\n",
       "      <td>4.0</td>\n",
       "      <td>28.0</td>\n",
       "      <td>1.0</td>\n",
       "      <td>1.0</td>\n",
       "      <td>3.0</td>\n",
       "      <td>0</td>\n",
       "    </tr>\n",
       "    <tr>\n",
       "      <th>4</th>\n",
       "      <td>5.0</td>\n",
       "      <td>74.0</td>\n",
       "      <td>1.0</td>\n",
       "      <td>5.0</td>\n",
       "      <td>NaN</td>\n",
       "      <td>1</td>\n",
       "    </tr>\n",
       "  </tbody>\n",
       "</table>\n",
       "</div>"
      ],
      "text/plain": [
       "   BI-RADS  Idade  Forma   Margem   Densidade  Severidade\n",
       "0      5.0   67.0    3.0      5.0         3.0           1\n",
       "1      4.0   43.0    1.0      1.0         NaN           1\n",
       "2      5.0   58.0    4.0      5.0         3.0           1\n",
       "3      4.0   28.0    1.0      1.0         3.0           0\n",
       "4      5.0   74.0    1.0      5.0         NaN           1"
      ]
     },
     "execution_count": 199,
     "metadata": {},
     "output_type": "execute_result"
    }
   ],
   "source": [
    "mamografia = dataset.copy()\n",
    "mamografia.head()"
   ]
  },
  {
   "cell_type": "code",
   "execution_count": 200,
   "metadata": {
    "pycharm": {
     "name": "#%%\n"
    }
   },
   "outputs": [
    {
     "data": {
      "text/plain": [
       "BI-RADS       float64\n",
       "Idade         float64\n",
       "Forma         float64\n",
       " Margem       float64\n",
       " Densidade    float64\n",
       "Severidade      int64\n",
       "dtype: object"
      ]
     },
     "execution_count": 200,
     "metadata": {},
     "output_type": "execute_result"
    }
   ],
   "source": [
    "mamografia.dtypes"
   ]
  },
  {
   "cell_type": "markdown",
   "metadata": {
    "pycharm": {
     "name": "#%% md\n"
    }
   },
   "source": [
    "# Análise de Valores Ausentes"
   ]
  },
  {
   "cell_type": "code",
   "execution_count": 201,
   "metadata": {
    "pycharm": {
     "name": "#%%\n"
    }
   },
   "outputs": [
    {
     "name": "stdout",
     "output_type": "stream",
     "text": [
      " Valores ausentes  \n",
      "\n",
      "Valores Benigno: \n",
      "BI-RADS        1\n",
      "Idade          0\n",
      "Forma         19\n",
      " Margem       37\n",
      " Densidade    54\n",
      "Severidade     0\n",
      "dtype: int64\n",
      "\n",
      "Valores Maligno: \n",
      "BI-RADS        1\n",
      "Idade          5\n",
      "Forma         12\n",
      " Margem       11\n",
      " Densidade    22\n",
      "Severidade     0\n",
      "dtype: int64\n",
      "\n"
     ]
    }
   ],
   "source": [
    "benigno = mamografia[mamografia['Severidade'] == 0].isnull().sum()\n",
    "print(' Valores ausentes  ')\n",
    "print()\n",
    "print('Valores Benigno: ')\n",
    "print(benigno)\n",
    "print()\n",
    "maligno = mamografia[mamografia['Severidade'] == 1].isnull().sum()\n",
    "print('Valores Maligno: ')\n",
    "print(maligno)\n",
    "print()"
   ]
  },
  {
   "cell_type": "code",
   "execution_count": 202,
   "metadata": {
    "pycharm": {
     "name": "#%%\n"
    }
   },
   "outputs": [],
   "source": [
    "def tratar_ausentes():\n",
    "    for lista in mamografia.columns:\n",
    "        if lista != 'Idade':\n",
    "            moda_benigno = mamografia[(mamografia['Severidade'] == 0)][lista].mode()[0]\n",
    "            moda_maligno = mamografia[(mamografia['Severidade'] == 1)][lista].mode()[0]\n",
    "            mamografia.loc[(mamografia[lista].isnull())&(mamografia['Severidade'] == 0), lista] = moda_benigno\n",
    "            mamografia.loc[(mamografia[lista].isnull())&(mamografia['Severidade'] == 1), lista] = moda_maligno\n",
    "        else:\n",
    "            media_benigno = mamografia[(mamografia['Severidade'] == 0)][lista].mean()\n",
    "            media_maligno = mamografia[(mamografia['Severidade'] == 1)][lista].mean()\n",
    "            mamografia.loc[(mamografia[lista].isnull())&(mamografia['Severidade'] == 0), lista] = media_benigno\n",
    "            mamografia.loc[(mamografia[lista].isnull())&(mamografia['Severidade'] == 1), lista] = media_maligno"
   ]
  },
  {
   "cell_type": "code",
   "execution_count": 203,
   "metadata": {
    "pycharm": {
     "name": "#%%\n"
    }
   },
   "outputs": [
    {
     "data": {
      "text/plain": [
       "Index(['BI-RADS', 'Idade', 'Forma', ' Margem', ' Densidade', 'Severidade'], dtype='object')"
      ]
     },
     "execution_count": 203,
     "metadata": {},
     "output_type": "execute_result"
    }
   ],
   "source": [
    "mamografia.columns"
   ]
  },
  {
   "cell_type": "code",
   "execution_count": 204,
   "metadata": {
    "pycharm": {
     "name": "#%%\n"
    }
   },
   "outputs": [],
   "source": [
    "tratar_ausentes()"
   ]
  },
  {
   "cell_type": "code",
   "execution_count": 205,
   "metadata": {
    "pycharm": {
     "name": "#%%\n"
    }
   },
   "outputs": [
    {
     "data": {
      "text/plain": [
       "BI-RADS       0\n",
       "Idade         0\n",
       "Forma         0\n",
       " Margem       0\n",
       " Densidade    0\n",
       "Severidade    0\n",
       "dtype: int64"
      ]
     },
     "execution_count": 205,
     "metadata": {},
     "output_type": "execute_result"
    }
   ],
   "source": [
    "mamografia.isnull().sum()"
   ]
  },
  {
   "cell_type": "markdown",
   "metadata": {
    "pycharm": {
     "name": "#%% md\n"
    }
   },
   "source": [
    "## Objetivo da atividade\n",
    "\n",
    "1. Elabore ou escolha um código que a refatoração possa ser aplicada.\n",
    "2. Identifique o mau cheiro associado.\n",
    "3. Escreva os casos de teste e execute\n",
    "4. Aplique a refatoração\n",
    "5. Execute os casos de teste novamente\n",
    "6. Documente cada etapa para a apresentação\n",
    "\n",
    "## Mau Cheiro\n",
    "\n",
    "### Lista longa de parâmetros\n",
    "\n",
    "O mau cheiro que encontrei dentro do código abaixo foi o lista longa de parâmetros, por possuir consultas longas e não claras. Esse mal cheiro, pode trazer dificuldades ou erros no código."
   ]
  },
  {
   "cell_type": "markdown",
   "metadata": {
    "pycharm": {
     "name": "#%% md\n"
    }
   },
   "source": [
    "## Procedimento"
   ]
  },
  {
   "cell_type": "code",
   "execution_count": 206,
   "metadata": {
    "pycharm": {
     "name": "#%%\n"
    }
   },
   "outputs": [],
   "source": [
    "refatoraMamografia = dataset.copy()"
   ]
  },
  {
   "cell_type": "code",
   "execution_count": 207,
   "metadata": {
    "pycharm": {
     "name": "#%%\n"
    }
   },
   "outputs": [
    {
     "data": {
      "text/plain": [
       "BI-RADS        2\n",
       "Idade          5\n",
       "Forma         31\n",
       " Margem       48\n",
       " Densidade    76\n",
       "Severidade     0\n",
       "dtype: int64"
      ]
     },
     "execution_count": 207,
     "metadata": {},
     "output_type": "execute_result"
    }
   ],
   "source": [
    "refatoraMamografia.isnull().sum()"
   ]
  },
  {
   "cell_type": "markdown",
   "metadata": {
    "pycharm": {
     "name": "#%% md\n"
    }
   },
   "source": [
    "### Use Extrair variável (Extract Variable) no código da consulta para separá-lo do restante do corpo da função."
   ]
  },
  {
   "cell_type": "code",
   "execution_count": 208,
   "metadata": {
    "pycharm": {
     "name": "#%%\n"
    }
   },
   "outputs": [],
   "source": [
    "def tratar_ausentes():\n",
    "    colunas = refatoraMamografia.columns\n",
    "    for lista in colunas:\n",
    "        if lista != 'Idade':\n",
    "            moda_benigno = refatoraMamografia[(refatoraMamografia['Severidade'] == 0)][lista].mode()[0]\n",
    "            moda_maligno = refatoraMamografia[(refatoraMamografia['Severidade'] == 1)][lista].mode()[0]\n",
    "            refatoraMamografia.loc[(refatoraMamografia[lista].isnull())&(refatoraMamografia['Severidade'] == 0), lista] = moda_benigno\n",
    "            refatoraMamografia.loc[(refatoraMamografia[lista].isnull())&(refatoraMamografia['Severidade'] == 1), lista] = moda_maligno\n",
    "        else:\n",
    "            media_benigno = refatoraMamografia[(refatoraMamografia['Severidade'] == 0)][lista].mean()\n",
    "            media_maligno = refatoraMamografia[(refatoraMamografia['Severidade'] == 1)][lista].mean()\n",
    "            refatoraMamografia.loc[(refatoraMamografia[lista].isnull())&(refatoraMamografia['Severidade'] == 0), lista] = media_benigno\n",
    "            refatoraMamografia.loc[(refatoraMamografia[lista].isnull())&(refatoraMamografia['Severidade'] == 1), lista] = media_maligno"
   ]
  },
  {
   "cell_type": "code",
   "execution_count": 209,
   "metadata": {
    "pycharm": {
     "name": "#%%\n"
    }
   },
   "outputs": [],
   "source": [
    "tratar_ausentes()"
   ]
  },
  {
   "cell_type": "code",
   "execution_count": 210,
   "metadata": {
    "pycharm": {
     "name": "#%%\n"
    }
   },
   "outputs": [
    {
     "data": {
      "text/plain": [
       "BI-RADS       0\n",
       "Idade         0\n",
       "Forma         0\n",
       " Margem       0\n",
       " Densidade    0\n",
       "Severidade    0\n",
       "dtype: int64"
      ]
     },
     "execution_count": 210,
     "metadata": {},
     "output_type": "execute_result"
    }
   ],
   "source": [
    "refatoraMamografia.isnull().sum()"
   ]
  },
  {
   "cell_type": "markdown",
   "metadata": {
    "pycharm": {
     "name": "#%% md\n"
    }
   },
   "source": [
    "### Aplique Extrair função (Extract Function) no código do corpo que não seja a chamada da consulta."
   ]
  },
  {
   "cell_type": "markdown",
   "metadata": {
    "pycharm": {
     "name": "#%% md\n"
    }
   },
   "source": [
    "### Dê à nova função um nome fácil de pesquisar, para poder renomeá-la depois."
   ]
  },
  {
   "cell_type": "code",
   "execution_count": 211,
   "metadata": {
    "pycharm": {
     "name": "#%%\n"
    }
   },
   "outputs": [
    {
     "data": {
      "text/plain": [
       "BI-RADS        2\n",
       "Idade          5\n",
       "Forma         31\n",
       " Margem       48\n",
       " Densidade    76\n",
       "Severidade     0\n",
       "dtype: int64"
      ]
     },
     "execution_count": 211,
     "metadata": {},
     "output_type": "execute_result"
    }
   ],
   "source": [
    "refatoraMamografia = dataset.copy() #Apenas usei novamente para retorna o valor do dataset com os ausentes\n",
    "refatoraMamografia.isnull().sum()"
   ]
  },
  {
   "cell_type": "code",
   "execution_count": 212,
   "metadata": {
    "pycharm": {
     "name": "#%%\n"
    }
   },
   "outputs": [],
   "source": [
    "def XXXNEWsubstitui_valores_ausentes_com_moda(lista):\n",
    "        moda_benigno = refatoraMamografia[(refatoraMamografia['Severidade'] == 0)][lista].mode()[0]\n",
    "        refatoraMamografia.loc[(refatoraMamografia[lista].isnull())&(refatoraMamografia['Severidade'] == 0), lista] = moda_benigno\n",
    "        moda_maligno = refatoraMamografia[(refatoraMamografia['Severidade'] == 1)][lista].mode()[0]\n",
    "        refatoraMamografia.loc[(refatoraMamografia[lista].isnull())&(refatoraMamografia['Severidade'] == 1), lista] = moda_maligno\n",
    "\n",
    "def XXXNEWsubstitui_valores_ausentes_com_media(lista):\n",
    "        media_benigno = refatoraMamografia[(refatoraMamografia['Severidade'] == 0)][lista].mean()\n",
    "        refatoraMamografia.loc[(refatoraMamografia[lista].isnull())&(refatoraMamografia['Severidade'] == 0), lista] = media_benigno\n",
    "        media_maligno = refatoraMamografia[(refatoraMamografia['Severidade'] == 1)][lista].mean()\n",
    "        refatoraMamografia.loc[(refatoraMamografia[lista].isnull())&(refatoraMamografia['Severidade'] == 1), lista] = media_maligno"
   ]
  },
  {
   "cell_type": "code",
   "execution_count": 213,
   "metadata": {
    "pycharm": {
     "name": "#%%\n"
    }
   },
   "outputs": [],
   "source": [
    "def tratar_ausentes_refatora(): # tratar_ausentes_refatora() está escrito refatora, para não chamar a outra função tratar_ausentes()\n",
    "    colunas = refatoraMamografia.columns\n",
    "    for listaCol in colunas:\n",
    "        if listaCol != 'Idade':\n",
    "            XXXNEWsubstitui_valores_ausentes_com_moda(listaCol)\n",
    "        else:\n",
    "            XXXNEWsubstitui_valores_ausentes_com_media(listaCol)"
   ]
  },
  {
   "cell_type": "code",
   "execution_count": 214,
   "metadata": {
    "pycharm": {
     "name": "#%%\n"
    }
   },
   "outputs": [],
   "source": [
    "tratar_ausentes_refatora()"
   ]
  },
  {
   "cell_type": "code",
   "execution_count": 215,
   "metadata": {
    "pycharm": {
     "name": "#%%\n"
    }
   },
   "outputs": [
    {
     "data": {
      "text/plain": [
       "BI-RADS       0\n",
       "Idade         0\n",
       "Forma         0\n",
       " Margem       0\n",
       " Densidade    0\n",
       "Severidade    0\n",
       "dtype: int64"
      ]
     },
     "execution_count": 215,
     "metadata": {},
     "output_type": "execute_result"
    }
   ],
   "source": [
    "refatoraMamografia.isnull().sum()"
   ]
  },
  {
   "cell_type": "markdown",
   "metadata": {
    "pycharm": {
     "name": "#%% md\n"
    }
   },
   "source": [
    "### Use Internalizar variável (Inline Variable) para se livrar da variável que você acabou de criar."
   ]
  },
  {
   "cell_type": "code",
   "execution_count": 216,
   "metadata": {
    "pycharm": {
     "name": "#%%\n"
    }
   },
   "outputs": [
    {
     "data": {
      "text/plain": [
       "BI-RADS        2\n",
       "Idade          5\n",
       "Forma         31\n",
       " Margem       48\n",
       " Densidade    76\n",
       "Severidade     0\n",
       "dtype: int64"
      ]
     },
     "execution_count": 216,
     "metadata": {},
     "output_type": "execute_result"
    }
   ],
   "source": [
    "refatoraMamografia = dataset.copy()  #Apenas usei novamente para retorna o valor do dataset com os ausentes\n",
    "refatoraMamografia.isnull().sum()"
   ]
  },
  {
   "cell_type": "code",
   "execution_count": 217,
   "metadata": {
    "pycharm": {
     "name": "#%%\n"
    }
   },
   "outputs": [],
   "source": [
    "def XXXNEWsubstitui_valores_ausentes_com_moda(lista):\n",
    "        moda_benigno = refatoraMamografia[(refatoraMamografia['Severidade'] == 0)][lista].mode()[0]\n",
    "        refatoraMamografia.loc[(refatoraMamografia[lista].isnull())&(refatoraMamografia['Severidade'] == 0), lista] = moda_benigno\n",
    "        moda_maligno = refatoraMamografia[(refatoraMamografia['Severidade'] == 1)][lista].mode()[0]\n",
    "        refatoraMamografia.loc[(refatoraMamografia[lista].isnull())&(refatoraMamografia['Severidade'] == 1), lista] = moda_maligno\n",
    "\n",
    "def XXXNEWsubstitui_valores_ausentes_com_media(lista):\n",
    "        media_benigno = refatoraMamografia[(refatoraMamografia['Severidade'] == 0)][lista].mean()\n",
    "        refatoraMamografia.loc[(refatoraMamografia[lista].isnull())&(refatoraMamografia['Severidade'] == 0), lista] = media_benigno\n",
    "        media_maligno = refatoraMamografia[(refatoraMamografia['Severidade'] == 1)][lista].mean()\n",
    "        refatoraMamografia.loc[(refatoraMamografia[lista].isnull())&(refatoraMamografia['Severidade'] == 1), lista] = media_maligno"
   ]
  },
  {
   "cell_type": "code",
   "execution_count": 218,
   "metadata": {
    "pycharm": {
     "name": "#%%\n"
    }
   },
   "outputs": [],
   "source": [
    "def tratar_ausentes_refatora():  # tratar_ausentes_refatora() está escrito refatora, para não chamar a outra função tratar_ausentes()\n",
    "    for listaCol in refatoraMamografia.columns:\n",
    "        if listaCol != 'Idade':\n",
    "            XXXNEWsubstitui_valores_ausentes_com_moda(listaCol)\n",
    "        else:\n",
    "            XXXNEWsubstitui_valores_ausentes_com_media(listaCol)"
   ]
  },
  {
   "cell_type": "code",
   "execution_count": 219,
   "metadata": {
    "pycharm": {
     "name": "#%%\n"
    }
   },
   "outputs": [
    {
     "data": {
      "text/plain": [
       "BI-RADS       0\n",
       "Idade         0\n",
       "Forma         0\n",
       " Margem       0\n",
       " Densidade    0\n",
       "Severidade    0\n",
       "dtype: int64"
      ]
     },
     "execution_count": 219,
     "metadata": {},
     "output_type": "execute_result"
    }
   ],
   "source": [
    "tratar_ausentes_refatora()\n",
    "refatoraMamografia.isnull().sum()"
   ]
  },
  {
   "cell_type": "markdown",
   "metadata": {
    "pycharm": {
     "name": "#%% md\n"
    }
   },
   "source": [
    "### Aplique Internalizar função (Inline Function) na função original."
   ]
  },
  {
   "cell_type": "markdown",
   "metadata": {
    "pycharm": {
     "name": "#%% md\n"
    }
   },
   "source": [
    "### Renomeie a nova função dando-lhe o nome da função original."
   ]
  },
  {
   "cell_type": "code",
   "execution_count": 220,
   "metadata": {
    "pycharm": {
     "name": "#%%\n"
    }
   },
   "outputs": [
    {
     "data": {
      "text/plain": [
       "BI-RADS        2\n",
       "Idade          5\n",
       "Forma         31\n",
       " Margem       48\n",
       " Densidade    76\n",
       "Severidade     0\n",
       "dtype: int64"
      ]
     },
     "execution_count": 220,
     "metadata": {},
     "output_type": "execute_result"
    }
   ],
   "source": [
    "refatoraMamografia = dataset.copy()  #Apenas usei novamente para retorna o valor do dataset com os ausentes\n",
    "refatoraMamografia.isnull().sum()"
   ]
  },
  {
   "cell_type": "code",
   "execution_count": 221,
   "metadata": {
    "pycharm": {
     "name": "#%%\n"
    }
   },
   "outputs": [],
   "source": [
    "def substitui_valores_ausentes_com_moda(lista):\n",
    "    moda_benigno = refatoraMamografia[(refatoraMamografia['Severidade'] == 0)][lista].mode()[0]\n",
    "    refatoraMamografia.loc[(refatoraMamografia[lista].isnull()) & (refatoraMamografia['Severidade'] == 0), lista] = moda_benigno\n",
    "    moda_maligno = refatoraMamografia[(refatoraMamografia['Severidade'] == 1)][lista].mode()[0]\n",
    "    refatoraMamografia.loc[(refatoraMamografia[lista].isnull()) & (refatoraMamografia['Severidade'] == 1), lista] = moda_maligno\n",
    "\n",
    "\n",
    "def substitui_valores_ausentes_com_media(lista):\n",
    "    media_benigno = refatoraMamografia[(refatoraMamografia['Severidade'] == 0)][lista].mean()\n",
    "    refatoraMamografia.loc[(refatoraMamografia[lista].isnull()) & (refatoraMamografia['Severidade'] == 0), lista] = media_benigno\n",
    "    media_maligno = refatoraMamografia[(refatoraMamografia['Severidade'] == 1)][lista].mean()\n",
    "    refatoraMamografia.loc[(refatoraMamografia[lista].isnull()) & (refatoraMamografia['Severidade'] == 1), lista] = media_maligno"
   ]
  },
  {
   "cell_type": "code",
   "execution_count": 222,
   "metadata": {
    "pycharm": {
     "name": "#%%\n"
    }
   },
   "outputs": [],
   "source": [
    "def tratar_ausentes_refatora(colunas): # tratar_ausentes_refatora() está escrito refatora, para não chamar a outra função tratar_ausentes()\n",
    "    for listaCol in colunas:\n",
    "        if listaCol != 'Idade':\n",
    "            substitui_valores_ausentes_com_moda(listaCol)\n",
    "        else:\n",
    "            substitui_valores_ausentes_com_media(listaCol)"
   ]
  },
  {
   "cell_type": "code",
   "execution_count": 223,
   "metadata": {
    "pycharm": {
     "name": "#%%\n"
    }
   },
   "outputs": [
    {
     "data": {
      "text/plain": [
       "BI-RADS       0\n",
       "Idade         0\n",
       "Forma         0\n",
       " Margem       0\n",
       " Densidade    0\n",
       "Severidade    0\n",
       "dtype: int64"
      ]
     },
     "execution_count": 223,
     "metadata": {},
     "output_type": "execute_result"
    }
   ],
   "source": [
    "tratar_ausentes_refatora(refatoraMamografia.columns)\n",
    "refatoraMamografia.isnull().sum()"
   ]
  }
 ],
 "metadata": {
  "kernelspec": {
   "display_name": "Python 3 (ipykernel)",
   "language": "python",
   "name": "python3"
  },
  "language_info": {
   "codemirror_mode": {
    "name": "ipython",
    "version": 3
   },
   "file_extension": ".py",
   "mimetype": "text/x-python",
   "name": "python",
   "nbconvert_exporter": "python",
   "pygments_lexer": "ipython3",
   "version": "3.9.7"
  }
 },
 "nbformat": 4,
 "nbformat_minor": 1
}
